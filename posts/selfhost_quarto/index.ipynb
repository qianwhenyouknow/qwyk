{
 "cells": [
  {
   "cell_type": "raw",
   "metadata": {},
   "source": [
    "---\n",
    "title: \"Quarto: Python and Observable JS\"\n",
    "author: \"Qian\"\n",
    "date: 2023/11/16\n",
    "tags: \n",
    "    - OJS\n",
    "    - Python\n",
    "    - quarto\n",
    "    - blogs\n",
    "    - beginner\n",
    "    - data analysis\n",
    "\n",
    "---"
   ]
  },
  {
   "cell_type": "markdown",
   "metadata": {},
   "source": [
    "Welcome to the intersection of innovation and interactivity in scientific blogging! In this blog, we explore how Quarto leverages the strengths of Python and Observable JavaScript to transform the way we create and share data-driven narratives. Dive into the world of dynamic content creation where Python's robust analysis capabilities meet the interactive flair of Observable JS."
   ]
  },
  {
   "cell_type": "markdown",
   "metadata": {},
   "source": [
    "## What is Quarto?\n",
    "\n",
    "Imagine you're writing a blog post, and you want to include not just words and pictures, but also interactive charts, live data, or even little bits of software that your readers can play with right in the post. That's where Quarto comes in.\n",
    "\n",
    "Quarto is like a supercharged blogging tool. It's designed for people who want to share more than just text and images in their blog posts. Think of it as a magic notebook where you can write your story, and also include live graphs, interactive maps, or even quizzes and puzzles, all in one place.\n",
    "\n",
    "What makes Quarto special is its ability to blend writing with interactive elements seamlessly. This is especially useful for bloggers who want to share educational content, detailed research, or any topic where showing data and live examples make the story more powerful.\n",
    "\n",
    "In short, Quarto is a blogging platform that allows you to create richer, more interactive posts. It's particularly great for stories that are enhanced by more than just words and pictures.\n"
   ]
  },
  {
   "cell_type": "markdown",
   "metadata": {},
   "source": [
    "## Comparing Python and Observable Javascript(OJS) in Quarto\n",
    "\n",
    "As an open-source scientific and technical publishing system, we can create dynamic content on our Quarto website by using Python, R, Julia, and Observable Java Script. What are the difference between these technical languages? I'll then briefly introduce how to apply Python and OJS in writing a Quarto blog, highlighting their differences."
   ]
  },
  {
   "cell_type": "markdown",
   "metadata": {},
   "source": [
    "### Python in Quarto\n",
    "\n",
    "Python is a powerful programming language widely used for data manipulation and analysis with its rich array of libraries. Precisely, Python is suited for complex, concrete and static visualizations where the focus is on data representation without great need for interactivity. The belowing is a comparison of a simple data processing by using these two languages."
   ]
  },
  {
   "cell_type": "code",
   "execution_count": 56,
   "metadata": {},
   "outputs": [
    {
     "data": {
      "text/plain": [
       "Templates configuration\n",
       "-----------------------\n",
       "    Default template: 'plotly_dark'\n",
       "    Available templates:\n",
       "        ['ggplot2', 'seaborn', 'simple_white', 'plotly',\n",
       "         'plotly_white', 'plotly_dark', 'presentation', 'xgridoff',\n",
       "         'ygridoff', 'gridon', 'none']"
      ]
     },
     "execution_count": 56,
     "metadata": {},
     "output_type": "execute_result"
    }
   ],
   "source": [
    "pio.templates.default = \"plotly_dark\"\n",
    "pio.templates"
   ]
  },
  {
   "cell_type": "code",
   "execution_count": 86,
   "metadata": {},
   "outputs": [
    {
     "data": {
      "text/html": [
       "        <script type=\"text/javascript\">\n",
       "        window.PlotlyConfig = {MathJaxConfig: 'local'};\n",
       "        if (window.MathJax && window.MathJax.Hub && window.MathJax.Hub.Config) {window.MathJax.Hub.Config({SVG: {font: \"STIX-Web\"}});}\n",
       "        if (typeof require !== 'undefined') {\n",
       "        require.undef(\"plotly\");\n",
       "        requirejs.config({\n",
       "            paths: {\n",
       "                'plotly': ['https://cdn.plot.ly/plotly-2.12.1.min']\n",
       "            }\n",
       "        });\n",
       "        require(['plotly'], function(Plotly) {\n",
       "            window._Plotly = Plotly;\n",
       "        });\n",
       "        }\n",
       "        </script>\n",
       "        "
      ]
     },
     "metadata": {},
     "output_type": "display_data"
    },
    {
     "data": {
      "application/vnd.plotly.v1+json": {
       "config": {
        "plotlyServerURL": "https://plot.ly"
       },
       "data": [
        {
         "alignmentgroup": "True",
         "hovertemplate": "Month=%{x}<br>Sales Figures=%{marker.color}<extra></extra>",
         "legendgroup": "",
         "marker": {
          "color": [
           200,
           150,
           300,
           250,
           400,
           320
          ],
          "coloraxis": "coloraxis",
          "pattern": {
           "shape": ""
          }
         },
         "name": "",
         "offsetgroup": "",
         "orientation": "v",
         "showlegend": false,
         "textposition": "auto",
         "type": "bar",
         "x": [
          "January",
          "February",
          "March",
          "April",
          "May",
          "June"
         ],
         "xaxis": "x",
         "y": [
          200,
          150,
          300,
          250,
          400,
          320
         ],
         "yaxis": "y"
        }
       ],
       "layout": {
        "barmode": "relative",
        "coloraxis": {
         "colorbar": {
          "title": {
           "text": "Sales Figures"
          }
         },
         "colorscale": [
          [
           0,
           "rgb(8,29,88)"
          ],
          [
           0.125,
           "rgb(37,52,148)"
          ],
          [
           0.25,
           "rgb(34,94,168)"
          ],
          [
           0.375,
           "rgb(29,145,192)"
          ],
          [
           0.5,
           "rgb(65,182,196)"
          ],
          [
           0.625,
           "rgb(127,205,187)"
          ],
          [
           0.75,
           "rgb(199,233,180)"
          ],
          [
           0.875,
           "rgb(237,248,177)"
          ],
          [
           1,
           "rgb(255,255,217)"
          ]
         ]
        },
        "legend": {
         "tracegroupgap": 0
        },
        "template": {
         "data": {
          "bar": [
           {
            "error_x": {
             "color": "#f2f5fa"
            },
            "error_y": {
             "color": "#f2f5fa"
            },
            "marker": {
             "line": {
              "color": "rgb(17,17,17)",
              "width": 0.5
             },
             "pattern": {
              "fillmode": "overlay",
              "size": 10,
              "solidity": 0.2
             }
            },
            "type": "bar"
           }
          ],
          "barpolar": [
           {
            "marker": {
             "line": {
              "color": "rgb(17,17,17)",
              "width": 0.5
             },
             "pattern": {
              "fillmode": "overlay",
              "size": 10,
              "solidity": 0.2
             }
            },
            "type": "barpolar"
           }
          ],
          "carpet": [
           {
            "aaxis": {
             "endlinecolor": "#A2B1C6",
             "gridcolor": "#506784",
             "linecolor": "#506784",
             "minorgridcolor": "#506784",
             "startlinecolor": "#A2B1C6"
            },
            "baxis": {
             "endlinecolor": "#A2B1C6",
             "gridcolor": "#506784",
             "linecolor": "#506784",
             "minorgridcolor": "#506784",
             "startlinecolor": "#A2B1C6"
            },
            "type": "carpet"
           }
          ],
          "choropleth": [
           {
            "colorbar": {
             "outlinewidth": 0,
             "ticks": ""
            },
            "type": "choropleth"
           }
          ],
          "contour": [
           {
            "colorbar": {
             "outlinewidth": 0,
             "ticks": ""
            },
            "colorscale": [
             [
              0,
              "#0d0887"
             ],
             [
              0.1111111111111111,
              "#46039f"
             ],
             [
              0.2222222222222222,
              "#7201a8"
             ],
             [
              0.3333333333333333,
              "#9c179e"
             ],
             [
              0.4444444444444444,
              "#bd3786"
             ],
             [
              0.5555555555555556,
              "#d8576b"
             ],
             [
              0.6666666666666666,
              "#ed7953"
             ],
             [
              0.7777777777777778,
              "#fb9f3a"
             ],
             [
              0.8888888888888888,
              "#fdca26"
             ],
             [
              1,
              "#f0f921"
             ]
            ],
            "type": "contour"
           }
          ],
          "contourcarpet": [
           {
            "colorbar": {
             "outlinewidth": 0,
             "ticks": ""
            },
            "type": "contourcarpet"
           }
          ],
          "heatmap": [
           {
            "colorbar": {
             "outlinewidth": 0,
             "ticks": ""
            },
            "colorscale": [
             [
              0,
              "#0d0887"
             ],
             [
              0.1111111111111111,
              "#46039f"
             ],
             [
              0.2222222222222222,
              "#7201a8"
             ],
             [
              0.3333333333333333,
              "#9c179e"
             ],
             [
              0.4444444444444444,
              "#bd3786"
             ],
             [
              0.5555555555555556,
              "#d8576b"
             ],
             [
              0.6666666666666666,
              "#ed7953"
             ],
             [
              0.7777777777777778,
              "#fb9f3a"
             ],
             [
              0.8888888888888888,
              "#fdca26"
             ],
             [
              1,
              "#f0f921"
             ]
            ],
            "type": "heatmap"
           }
          ],
          "heatmapgl": [
           {
            "colorbar": {
             "outlinewidth": 0,
             "ticks": ""
            },
            "colorscale": [
             [
              0,
              "#0d0887"
             ],
             [
              0.1111111111111111,
              "#46039f"
             ],
             [
              0.2222222222222222,
              "#7201a8"
             ],
             [
              0.3333333333333333,
              "#9c179e"
             ],
             [
              0.4444444444444444,
              "#bd3786"
             ],
             [
              0.5555555555555556,
              "#d8576b"
             ],
             [
              0.6666666666666666,
              "#ed7953"
             ],
             [
              0.7777777777777778,
              "#fb9f3a"
             ],
             [
              0.8888888888888888,
              "#fdca26"
             ],
             [
              1,
              "#f0f921"
             ]
            ],
            "type": "heatmapgl"
           }
          ],
          "histogram": [
           {
            "marker": {
             "pattern": {
              "fillmode": "overlay",
              "size": 10,
              "solidity": 0.2
             }
            },
            "type": "histogram"
           }
          ],
          "histogram2d": [
           {
            "colorbar": {
             "outlinewidth": 0,
             "ticks": ""
            },
            "colorscale": [
             [
              0,
              "#0d0887"
             ],
             [
              0.1111111111111111,
              "#46039f"
             ],
             [
              0.2222222222222222,
              "#7201a8"
             ],
             [
              0.3333333333333333,
              "#9c179e"
             ],
             [
              0.4444444444444444,
              "#bd3786"
             ],
             [
              0.5555555555555556,
              "#d8576b"
             ],
             [
              0.6666666666666666,
              "#ed7953"
             ],
             [
              0.7777777777777778,
              "#fb9f3a"
             ],
             [
              0.8888888888888888,
              "#fdca26"
             ],
             [
              1,
              "#f0f921"
             ]
            ],
            "type": "histogram2d"
           }
          ],
          "histogram2dcontour": [
           {
            "colorbar": {
             "outlinewidth": 0,
             "ticks": ""
            },
            "colorscale": [
             [
              0,
              "#0d0887"
             ],
             [
              0.1111111111111111,
              "#46039f"
             ],
             [
              0.2222222222222222,
              "#7201a8"
             ],
             [
              0.3333333333333333,
              "#9c179e"
             ],
             [
              0.4444444444444444,
              "#bd3786"
             ],
             [
              0.5555555555555556,
              "#d8576b"
             ],
             [
              0.6666666666666666,
              "#ed7953"
             ],
             [
              0.7777777777777778,
              "#fb9f3a"
             ],
             [
              0.8888888888888888,
              "#fdca26"
             ],
             [
              1,
              "#f0f921"
             ]
            ],
            "type": "histogram2dcontour"
           }
          ],
          "mesh3d": [
           {
            "colorbar": {
             "outlinewidth": 0,
             "ticks": ""
            },
            "type": "mesh3d"
           }
          ],
          "parcoords": [
           {
            "line": {
             "colorbar": {
              "outlinewidth": 0,
              "ticks": ""
             }
            },
            "type": "parcoords"
           }
          ],
          "pie": [
           {
            "automargin": true,
            "type": "pie"
           }
          ],
          "scatter": [
           {
            "marker": {
             "line": {
              "color": "#283442"
             }
            },
            "type": "scatter"
           }
          ],
          "scatter3d": [
           {
            "line": {
             "colorbar": {
              "outlinewidth": 0,
              "ticks": ""
             }
            },
            "marker": {
             "colorbar": {
              "outlinewidth": 0,
              "ticks": ""
             }
            },
            "type": "scatter3d"
           }
          ],
          "scattercarpet": [
           {
            "marker": {
             "colorbar": {
              "outlinewidth": 0,
              "ticks": ""
             }
            },
            "type": "scattercarpet"
           }
          ],
          "scattergeo": [
           {
            "marker": {
             "colorbar": {
              "outlinewidth": 0,
              "ticks": ""
             }
            },
            "type": "scattergeo"
           }
          ],
          "scattergl": [
           {
            "marker": {
             "line": {
              "color": "#283442"
             }
            },
            "type": "scattergl"
           }
          ],
          "scattermapbox": [
           {
            "marker": {
             "colorbar": {
              "outlinewidth": 0,
              "ticks": ""
             }
            },
            "type": "scattermapbox"
           }
          ],
          "scatterpolar": [
           {
            "marker": {
             "colorbar": {
              "outlinewidth": 0,
              "ticks": ""
             }
            },
            "type": "scatterpolar"
           }
          ],
          "scatterpolargl": [
           {
            "marker": {
             "colorbar": {
              "outlinewidth": 0,
              "ticks": ""
             }
            },
            "type": "scatterpolargl"
           }
          ],
          "scatterternary": [
           {
            "marker": {
             "colorbar": {
              "outlinewidth": 0,
              "ticks": ""
             }
            },
            "type": "scatterternary"
           }
          ],
          "surface": [
           {
            "colorbar": {
             "outlinewidth": 0,
             "ticks": ""
            },
            "colorscale": [
             [
              0,
              "#0d0887"
             ],
             [
              0.1111111111111111,
              "#46039f"
             ],
             [
              0.2222222222222222,
              "#7201a8"
             ],
             [
              0.3333333333333333,
              "#9c179e"
             ],
             [
              0.4444444444444444,
              "#bd3786"
             ],
             [
              0.5555555555555556,
              "#d8576b"
             ],
             [
              0.6666666666666666,
              "#ed7953"
             ],
             [
              0.7777777777777778,
              "#fb9f3a"
             ],
             [
              0.8888888888888888,
              "#fdca26"
             ],
             [
              1,
              "#f0f921"
             ]
            ],
            "type": "surface"
           }
          ],
          "table": [
           {
            "cells": {
             "fill": {
              "color": "#506784"
             },
             "line": {
              "color": "rgb(17,17,17)"
             }
            },
            "header": {
             "fill": {
              "color": "#2a3f5f"
             },
             "line": {
              "color": "rgb(17,17,17)"
             }
            },
            "type": "table"
           }
          ]
         },
         "layout": {
          "annotationdefaults": {
           "arrowcolor": "#f2f5fa",
           "arrowhead": 0,
           "arrowwidth": 1
          },
          "autotypenumbers": "strict",
          "coloraxis": {
           "colorbar": {
            "outlinewidth": 0,
            "ticks": ""
           }
          },
          "colorscale": {
           "diverging": [
            [
             0,
             "#8e0152"
            ],
            [
             0.1,
             "#c51b7d"
            ],
            [
             0.2,
             "#de77ae"
            ],
            [
             0.3,
             "#f1b6da"
            ],
            [
             0.4,
             "#fde0ef"
            ],
            [
             0.5,
             "#f7f7f7"
            ],
            [
             0.6,
             "#e6f5d0"
            ],
            [
             0.7,
             "#b8e186"
            ],
            [
             0.8,
             "#7fbc41"
            ],
            [
             0.9,
             "#4d9221"
            ],
            [
             1,
             "#276419"
            ]
           ],
           "sequential": [
            [
             0,
             "#0d0887"
            ],
            [
             0.1111111111111111,
             "#46039f"
            ],
            [
             0.2222222222222222,
             "#7201a8"
            ],
            [
             0.3333333333333333,
             "#9c179e"
            ],
            [
             0.4444444444444444,
             "#bd3786"
            ],
            [
             0.5555555555555556,
             "#d8576b"
            ],
            [
             0.6666666666666666,
             "#ed7953"
            ],
            [
             0.7777777777777778,
             "#fb9f3a"
            ],
            [
             0.8888888888888888,
             "#fdca26"
            ],
            [
             1,
             "#f0f921"
            ]
           ],
           "sequentialminus": [
            [
             0,
             "#0d0887"
            ],
            [
             0.1111111111111111,
             "#46039f"
            ],
            [
             0.2222222222222222,
             "#7201a8"
            ],
            [
             0.3333333333333333,
             "#9c179e"
            ],
            [
             0.4444444444444444,
             "#bd3786"
            ],
            [
             0.5555555555555556,
             "#d8576b"
            ],
            [
             0.6666666666666666,
             "#ed7953"
            ],
            [
             0.7777777777777778,
             "#fb9f3a"
            ],
            [
             0.8888888888888888,
             "#fdca26"
            ],
            [
             1,
             "#f0f921"
            ]
           ]
          },
          "colorway": [
           "#636efa",
           "#EF553B",
           "#00cc96",
           "#ab63fa",
           "#FFA15A",
           "#19d3f3",
           "#FF6692",
           "#B6E880",
           "#FF97FF",
           "#FECB52"
          ],
          "font": {
           "color": "#f2f5fa"
          },
          "geo": {
           "bgcolor": "rgb(17,17,17)",
           "lakecolor": "rgb(17,17,17)",
           "landcolor": "rgb(17,17,17)",
           "showlakes": true,
           "showland": true,
           "subunitcolor": "#506784"
          },
          "hoverlabel": {
           "align": "left"
          },
          "hovermode": "closest",
          "mapbox": {
           "style": "dark"
          },
          "paper_bgcolor": "rgb(17,17,17)",
          "plot_bgcolor": "rgb(17,17,17)",
          "polar": {
           "angularaxis": {
            "gridcolor": "#506784",
            "linecolor": "#506784",
            "ticks": ""
           },
           "bgcolor": "rgb(17,17,17)",
           "radialaxis": {
            "gridcolor": "#506784",
            "linecolor": "#506784",
            "ticks": ""
           }
          },
          "scene": {
           "xaxis": {
            "backgroundcolor": "rgb(17,17,17)",
            "gridcolor": "#506784",
            "gridwidth": 2,
            "linecolor": "#506784",
            "showbackground": true,
            "ticks": "",
            "zerolinecolor": "#C8D4E3"
           },
           "yaxis": {
            "backgroundcolor": "rgb(17,17,17)",
            "gridcolor": "#506784",
            "gridwidth": 2,
            "linecolor": "#506784",
            "showbackground": true,
            "ticks": "",
            "zerolinecolor": "#C8D4E3"
           },
           "zaxis": {
            "backgroundcolor": "rgb(17,17,17)",
            "gridcolor": "#506784",
            "gridwidth": 2,
            "linecolor": "#506784",
            "showbackground": true,
            "ticks": "",
            "zerolinecolor": "#C8D4E3"
           }
          },
          "shapedefaults": {
           "line": {
            "color": "#f2f5fa"
           }
          },
          "sliderdefaults": {
           "bgcolor": "#C8D4E3",
           "bordercolor": "rgb(17,17,17)",
           "borderwidth": 1,
           "tickwidth": 0
          },
          "ternary": {
           "aaxis": {
            "gridcolor": "#506784",
            "linecolor": "#506784",
            "ticks": ""
           },
           "baxis": {
            "gridcolor": "#506784",
            "linecolor": "#506784",
            "ticks": ""
           },
           "bgcolor": "rgb(17,17,17)",
           "caxis": {
            "gridcolor": "#506784",
            "linecolor": "#506784",
            "ticks": ""
           }
          },
          "title": {
           "x": 0.05
          },
          "updatemenudefaults": {
           "bgcolor": "#506784",
           "borderwidth": 0
          },
          "xaxis": {
           "automargin": true,
           "gridcolor": "#283442",
           "linecolor": "#506784",
           "ticks": "",
           "title": {
            "standoff": 15
           },
           "zerolinecolor": "#283442",
           "zerolinewidth": 2
          },
          "yaxis": {
           "automargin": true,
           "gridcolor": "#283442",
           "linecolor": "#506784",
           "ticks": "",
           "title": {
            "standoff": 15
           },
           "zerolinecolor": "#283442",
           "zerolinewidth": 2
          }
         }
        },
        "title": {
         "text": "Monthly Sales Data"
        },
        "xaxis": {
         "anchor": "y",
         "domain": [
          0,
          1
         ],
         "title": {
          "text": "Month"
         }
        },
        "yaxis": {
         "anchor": "x",
         "domain": [
          0,
          1
         ],
         "title": {
          "text": "Sales Figures"
         }
        }
       }
      },
      "text/html": [
       "<div>                            <div id=\"fc483dfc-962b-4e0a-b9f1-9a00529e48e6\" class=\"plotly-graph-div\" style=\"height:525px; width:100%;\"></div>            <script type=\"text/javascript\">                require([\"plotly\"], function(Plotly) {                    window.PLOTLYENV=window.PLOTLYENV || {};                                    if (document.getElementById(\"fc483dfc-962b-4e0a-b9f1-9a00529e48e6\")) {                    Plotly.newPlot(                        \"fc483dfc-962b-4e0a-b9f1-9a00529e48e6\",                        [{\"alignmentgroup\":\"True\",\"hovertemplate\":\"Month=%{x}<br>Sales Figures=%{marker.color}<extra></extra>\",\"legendgroup\":\"\",\"marker\":{\"color\":[200,150,300,250,400,320],\"coloraxis\":\"coloraxis\",\"pattern\":{\"shape\":\"\"}},\"name\":\"\",\"offsetgroup\":\"\",\"orientation\":\"v\",\"showlegend\":false,\"textposition\":\"auto\",\"x\":[\"January\",\"February\",\"March\",\"April\",\"May\",\"June\"],\"xaxis\":\"x\",\"y\":[200,150,300,250,400,320],\"yaxis\":\"y\",\"type\":\"bar\"}],                        {\"template\":{\"data\":{\"histogram2dcontour\":[{\"type\":\"histogram2dcontour\",\"colorbar\":{\"outlinewidth\":0,\"ticks\":\"\"},\"colorscale\":[[0.0,\"#0d0887\"],[0.1111111111111111,\"#46039f\"],[0.2222222222222222,\"#7201a8\"],[0.3333333333333333,\"#9c179e\"],[0.4444444444444444,\"#bd3786\"],[0.5555555555555556,\"#d8576b\"],[0.6666666666666666,\"#ed7953\"],[0.7777777777777778,\"#fb9f3a\"],[0.8888888888888888,\"#fdca26\"],[1.0,\"#f0f921\"]]}],\"choropleth\":[{\"type\":\"choropleth\",\"colorbar\":{\"outlinewidth\":0,\"ticks\":\"\"}}],\"histogram2d\":[{\"type\":\"histogram2d\",\"colorbar\":{\"outlinewidth\":0,\"ticks\":\"\"},\"colorscale\":[[0.0,\"#0d0887\"],[0.1111111111111111,\"#46039f\"],[0.2222222222222222,\"#7201a8\"],[0.3333333333333333,\"#9c179e\"],[0.4444444444444444,\"#bd3786\"],[0.5555555555555556,\"#d8576b\"],[0.6666666666666666,\"#ed7953\"],[0.7777777777777778,\"#fb9f3a\"],[0.8888888888888888,\"#fdca26\"],[1.0,\"#f0f921\"]]}],\"heatmap\":[{\"type\":\"heatmap\",\"colorbar\":{\"outlinewidth\":0,\"ticks\":\"\"},\"colorscale\":[[0.0,\"#0d0887\"],[0.1111111111111111,\"#46039f\"],[0.2222222222222222,\"#7201a8\"],[0.3333333333333333,\"#9c179e\"],[0.4444444444444444,\"#bd3786\"],[0.5555555555555556,\"#d8576b\"],[0.6666666666666666,\"#ed7953\"],[0.7777777777777778,\"#fb9f3a\"],[0.8888888888888888,\"#fdca26\"],[1.0,\"#f0f921\"]]}],\"heatmapgl\":[{\"type\":\"heatmapgl\",\"colorbar\":{\"outlinewidth\":0,\"ticks\":\"\"},\"colorscale\":[[0.0,\"#0d0887\"],[0.1111111111111111,\"#46039f\"],[0.2222222222222222,\"#7201a8\"],[0.3333333333333333,\"#9c179e\"],[0.4444444444444444,\"#bd3786\"],[0.5555555555555556,\"#d8576b\"],[0.6666666666666666,\"#ed7953\"],[0.7777777777777778,\"#fb9f3a\"],[0.8888888888888888,\"#fdca26\"],[1.0,\"#f0f921\"]]}],\"contourcarpet\":[{\"type\":\"contourcarpet\",\"colorbar\":{\"outlinewidth\":0,\"ticks\":\"\"}}],\"contour\":[{\"type\":\"contour\",\"colorbar\":{\"outlinewidth\":0,\"ticks\":\"\"},\"colorscale\":[[0.0,\"#0d0887\"],[0.1111111111111111,\"#46039f\"],[0.2222222222222222,\"#7201a8\"],[0.3333333333333333,\"#9c179e\"],[0.4444444444444444,\"#bd3786\"],[0.5555555555555556,\"#d8576b\"],[0.6666666666666666,\"#ed7953\"],[0.7777777777777778,\"#fb9f3a\"],[0.8888888888888888,\"#fdca26\"],[1.0,\"#f0f921\"]]}],\"surface\":[{\"type\":\"surface\",\"colorbar\":{\"outlinewidth\":0,\"ticks\":\"\"},\"colorscale\":[[0.0,\"#0d0887\"],[0.1111111111111111,\"#46039f\"],[0.2222222222222222,\"#7201a8\"],[0.3333333333333333,\"#9c179e\"],[0.4444444444444444,\"#bd3786\"],[0.5555555555555556,\"#d8576b\"],[0.6666666666666666,\"#ed7953\"],[0.7777777777777778,\"#fb9f3a\"],[0.8888888888888888,\"#fdca26\"],[1.0,\"#f0f921\"]]}],\"mesh3d\":[{\"type\":\"mesh3d\",\"colorbar\":{\"outlinewidth\":0,\"ticks\":\"\"}}],\"scatter\":[{\"marker\":{\"line\":{\"color\":\"#283442\"}},\"type\":\"scatter\"}],\"parcoords\":[{\"type\":\"parcoords\",\"line\":{\"colorbar\":{\"outlinewidth\":0,\"ticks\":\"\"}}}],\"scatterpolargl\":[{\"type\":\"scatterpolargl\",\"marker\":{\"colorbar\":{\"outlinewidth\":0,\"ticks\":\"\"}}}],\"bar\":[{\"error_x\":{\"color\":\"#f2f5fa\"},\"error_y\":{\"color\":\"#f2f5fa\"},\"marker\":{\"line\":{\"color\":\"rgb(17,17,17)\",\"width\":0.5},\"pattern\":{\"fillmode\":\"overlay\",\"size\":10,\"solidity\":0.2}},\"type\":\"bar\"}],\"scattergeo\":[{\"type\":\"scattergeo\",\"marker\":{\"colorbar\":{\"outlinewidth\":0,\"ticks\":\"\"}}}],\"scatterpolar\":[{\"type\":\"scatterpolar\",\"marker\":{\"colorbar\":{\"outlinewidth\":0,\"ticks\":\"\"}}}],\"histogram\":[{\"marker\":{\"pattern\":{\"fillmode\":\"overlay\",\"size\":10,\"solidity\":0.2}},\"type\":\"histogram\"}],\"scattergl\":[{\"marker\":{\"line\":{\"color\":\"#283442\"}},\"type\":\"scattergl\"}],\"scatter3d\":[{\"type\":\"scatter3d\",\"line\":{\"colorbar\":{\"outlinewidth\":0,\"ticks\":\"\"}},\"marker\":{\"colorbar\":{\"outlinewidth\":0,\"ticks\":\"\"}}}],\"scattermapbox\":[{\"type\":\"scattermapbox\",\"marker\":{\"colorbar\":{\"outlinewidth\":0,\"ticks\":\"\"}}}],\"scatterternary\":[{\"type\":\"scatterternary\",\"marker\":{\"colorbar\":{\"outlinewidth\":0,\"ticks\":\"\"}}}],\"scattercarpet\":[{\"type\":\"scattercarpet\",\"marker\":{\"colorbar\":{\"outlinewidth\":0,\"ticks\":\"\"}}}],\"carpet\":[{\"aaxis\":{\"endlinecolor\":\"#A2B1C6\",\"gridcolor\":\"#506784\",\"linecolor\":\"#506784\",\"minorgridcolor\":\"#506784\",\"startlinecolor\":\"#A2B1C6\"},\"baxis\":{\"endlinecolor\":\"#A2B1C6\",\"gridcolor\":\"#506784\",\"linecolor\":\"#506784\",\"minorgridcolor\":\"#506784\",\"startlinecolor\":\"#A2B1C6\"},\"type\":\"carpet\"}],\"table\":[{\"cells\":{\"fill\":{\"color\":\"#506784\"},\"line\":{\"color\":\"rgb(17,17,17)\"}},\"header\":{\"fill\":{\"color\":\"#2a3f5f\"},\"line\":{\"color\":\"rgb(17,17,17)\"}},\"type\":\"table\"}],\"barpolar\":[{\"marker\":{\"line\":{\"color\":\"rgb(17,17,17)\",\"width\":0.5},\"pattern\":{\"fillmode\":\"overlay\",\"size\":10,\"solidity\":0.2}},\"type\":\"barpolar\"}],\"pie\":[{\"automargin\":true,\"type\":\"pie\"}]},\"layout\":{\"autotypenumbers\":\"strict\",\"colorway\":[\"#636efa\",\"#EF553B\",\"#00cc96\",\"#ab63fa\",\"#FFA15A\",\"#19d3f3\",\"#FF6692\",\"#B6E880\",\"#FF97FF\",\"#FECB52\"],\"font\":{\"color\":\"#f2f5fa\"},\"hovermode\":\"closest\",\"hoverlabel\":{\"align\":\"left\"},\"paper_bgcolor\":\"rgb(17,17,17)\",\"plot_bgcolor\":\"rgb(17,17,17)\",\"polar\":{\"bgcolor\":\"rgb(17,17,17)\",\"angularaxis\":{\"gridcolor\":\"#506784\",\"linecolor\":\"#506784\",\"ticks\":\"\"},\"radialaxis\":{\"gridcolor\":\"#506784\",\"linecolor\":\"#506784\",\"ticks\":\"\"}},\"ternary\":{\"bgcolor\":\"rgb(17,17,17)\",\"aaxis\":{\"gridcolor\":\"#506784\",\"linecolor\":\"#506784\",\"ticks\":\"\"},\"baxis\":{\"gridcolor\":\"#506784\",\"linecolor\":\"#506784\",\"ticks\":\"\"},\"caxis\":{\"gridcolor\":\"#506784\",\"linecolor\":\"#506784\",\"ticks\":\"\"}},\"coloraxis\":{\"colorbar\":{\"outlinewidth\":0,\"ticks\":\"\"}},\"colorscale\":{\"sequential\":[[0.0,\"#0d0887\"],[0.1111111111111111,\"#46039f\"],[0.2222222222222222,\"#7201a8\"],[0.3333333333333333,\"#9c179e\"],[0.4444444444444444,\"#bd3786\"],[0.5555555555555556,\"#d8576b\"],[0.6666666666666666,\"#ed7953\"],[0.7777777777777778,\"#fb9f3a\"],[0.8888888888888888,\"#fdca26\"],[1.0,\"#f0f921\"]],\"sequentialminus\":[[0.0,\"#0d0887\"],[0.1111111111111111,\"#46039f\"],[0.2222222222222222,\"#7201a8\"],[0.3333333333333333,\"#9c179e\"],[0.4444444444444444,\"#bd3786\"],[0.5555555555555556,\"#d8576b\"],[0.6666666666666666,\"#ed7953\"],[0.7777777777777778,\"#fb9f3a\"],[0.8888888888888888,\"#fdca26\"],[1.0,\"#f0f921\"]],\"diverging\":[[0,\"#8e0152\"],[0.1,\"#c51b7d\"],[0.2,\"#de77ae\"],[0.3,\"#f1b6da\"],[0.4,\"#fde0ef\"],[0.5,\"#f7f7f7\"],[0.6,\"#e6f5d0\"],[0.7,\"#b8e186\"],[0.8,\"#7fbc41\"],[0.9,\"#4d9221\"],[1,\"#276419\"]]},\"xaxis\":{\"gridcolor\":\"#283442\",\"linecolor\":\"#506784\",\"ticks\":\"\",\"title\":{\"standoff\":15},\"zerolinecolor\":\"#283442\",\"automargin\":true,\"zerolinewidth\":2},\"yaxis\":{\"gridcolor\":\"#283442\",\"linecolor\":\"#506784\",\"ticks\":\"\",\"title\":{\"standoff\":15},\"zerolinecolor\":\"#283442\",\"automargin\":true,\"zerolinewidth\":2},\"scene\":{\"xaxis\":{\"backgroundcolor\":\"rgb(17,17,17)\",\"gridcolor\":\"#506784\",\"linecolor\":\"#506784\",\"showbackground\":true,\"ticks\":\"\",\"zerolinecolor\":\"#C8D4E3\",\"gridwidth\":2},\"yaxis\":{\"backgroundcolor\":\"rgb(17,17,17)\",\"gridcolor\":\"#506784\",\"linecolor\":\"#506784\",\"showbackground\":true,\"ticks\":\"\",\"zerolinecolor\":\"#C8D4E3\",\"gridwidth\":2},\"zaxis\":{\"backgroundcolor\":\"rgb(17,17,17)\",\"gridcolor\":\"#506784\",\"linecolor\":\"#506784\",\"showbackground\":true,\"ticks\":\"\",\"zerolinecolor\":\"#C8D4E3\",\"gridwidth\":2}},\"shapedefaults\":{\"line\":{\"color\":\"#f2f5fa\"}},\"annotationdefaults\":{\"arrowcolor\":\"#f2f5fa\",\"arrowhead\":0,\"arrowwidth\":1},\"geo\":{\"bgcolor\":\"rgb(17,17,17)\",\"landcolor\":\"rgb(17,17,17)\",\"subunitcolor\":\"#506784\",\"showland\":true,\"showlakes\":true,\"lakecolor\":\"rgb(17,17,17)\"},\"title\":{\"x\":0.05},\"updatemenudefaults\":{\"bgcolor\":\"#506784\",\"borderwidth\":0},\"sliderdefaults\":{\"bgcolor\":\"#C8D4E3\",\"borderwidth\":1,\"bordercolor\":\"rgb(17,17,17)\",\"tickwidth\":0},\"mapbox\":{\"style\":\"dark\"}}},\"xaxis\":{\"anchor\":\"y\",\"domain\":[0.0,1.0],\"title\":{\"text\":\"Month\"}},\"yaxis\":{\"anchor\":\"x\",\"domain\":[0.0,1.0],\"title\":{\"text\":\"Sales Figures\"}},\"coloraxis\":{\"colorbar\":{\"title\":{\"text\":\"Sales Figures\"}},\"colorscale\":[[0.0,\"rgb(8,29,88)\"],[0.125,\"rgb(37,52,148)\"],[0.25,\"rgb(34,94,168)\"],[0.375,\"rgb(29,145,192)\"],[0.5,\"rgb(65,182,196)\"],[0.625,\"rgb(127,205,187)\"],[0.75,\"rgb(199,233,180)\"],[0.875,\"rgb(237,248,177)\"],[1.0,\"rgb(255,255,217)\"]]},\"legend\":{\"tracegroupgap\":0},\"title\":{\"text\":\"Monthly Sales Data\"},\"barmode\":\"relative\"},                        {\"responsive\": true}                    ).then(function(){\n",
       "                            \n",
       "var gd = document.getElementById('fc483dfc-962b-4e0a-b9f1-9a00529e48e6');\n",
       "var x = new MutationObserver(function (mutations, observer) {{\n",
       "        var display = window.getComputedStyle(gd).display;\n",
       "        if (!display || display === 'none') {{\n",
       "            console.log([gd, 'removed!']);\n",
       "            Plotly.purge(gd);\n",
       "            observer.disconnect();\n",
       "        }}\n",
       "}});\n",
       "\n",
       "// Listen for the removal of the full notebook cells\n",
       "var notebookContainer = gd.closest('#notebook-container');\n",
       "if (notebookContainer) {{\n",
       "    x.observe(notebookContainer, {childList: true});\n",
       "}}\n",
       "\n",
       "// Listen for the clearing of the current output cell\n",
       "var outputEl = gd.closest('.output');\n",
       "if (outputEl) {{\n",
       "    x.observe(outputEl, {childList: true});\n",
       "}}\n",
       "\n",
       "                        })                };                });            </script>        </div>"
      ]
     },
     "metadata": {},
     "output_type": "display_data"
    }
   ],
   "source": [
    "### data processing in Python\n",
    "\n",
    "import pandas as pd\n",
    "import plotly.express as px\n",
    "import os\n",
    "import plotly.io as pio\n",
    "\n",
    "pio.renderers.default = \"plotly_mimetype+notebook_connected\"\n",
    "pio\n",
    "# Sample data\n",
    "data = {\n",
    "    'Month': ['January', 'February', 'March', 'April', 'May', 'June'],\n",
    "    'Sales': [200, 150, 300, 250, 400, 320]\n",
    "}\n",
    "df = pd.DataFrame(data)\n",
    "\n",
    "px.bar(\n",
    "    df, x='Month', y='Sales', color='Sales', \n",
    "    labels={'Sales':'Sales Figures'}, \n",
    "    title='Monthly Sales Data',\n",
    "    color_continuous_scale=\"YlGnBu_r\"\n",
    ")"
   ]
  },
  {
   "cell_type": "markdown",
   "metadata": {},
   "source": [
    "```{ojs}\n",
    "// data processing in OJS\n",
    "{\n",
    "  const data = [{name: \"Product A\", value: 200}, {name: \"Product B\", value: 150}, {name: \"Product C\", value: 300}];\n",
    "  const width = 500, height = 300, margin = {top: 20, right: 30, bottom: 40, left: 90};\n",
    "\n",
    "  const svg = d3.create(\"svg\")\n",
    "      .attr(\"viewBox\", [0, 0, width, height]);\n",
    "\n",
    "  const x = d3.scaleBand()\n",
    "      .domain(d3.range(data.length))\n",
    "      .range([margin.left, width - margin.right])\n",
    "      .padding(0.1);\n",
    "\n",
    "  const y = d3.scaleLinear()\n",
    "      .domain([0, d3.max(data, d => d.value)]).nice()\n",
    "      .range([height - margin.bottom, margin.top]);\n",
    "\n",
    "  svg.append(\"g\")\n",
    "    .attr(\"fill\", 'steelblue')\n",
    "    .selectAll(\"rect\")\n",
    "    .data(data)\n",
    "    .join(\"rect\")\n",
    "      .attr(\"x\", (d, i) => x(i))\n",
    "      .attr(\"y\", d => y(d.value))\n",
    "      .attr(\"height\", d => y(0) - y(d.value))\n",
    "      .attr(\"width\", x.bandwidth());\n",
    "\n",
    "  svg.append(\"g\")\n",
    "      .attr(\"transform\", `translate(0,${height - margin.bottom})`)\n",
    "      .call(d3.axisBottom(x).tickFormat(i => data[i].name));\n",
    "\n",
    "  svg.append(\"g\")\n",
    "      .attr(\"transform\", `translate(${margin.left},0)`)\n",
    "      .call(d3.axisLeft(y).ticks(null, data.format));\n",
    "\n",
    "  return svg.node();\n",
    "}\n",
    "```\n"
   ]
  },
  {
   "cell_type": "markdown",
   "metadata": {},
   "source": [
    "### Observable Javascript (OJS) in Quarto"
   ]
  },
  {
   "cell_type": "markdown",
   "metadata": {},
   "source": [
    "OJS in quarto shines in creating highly interactive, real-time web visualization that can intergrate seamlessly with modern web technologies.\n",
    "Precisely, OJS is ideal for users to creat dynamic and responsive web-based visualization. Moreover, we can easily intergrate with JS for custom intergrativity, making our creations more suitable for web-based iteractive visualizations. \n",
    "\n",
    "I'll next demonstrate some dynamic graphs and animation with help of OJS. "
   ]
  },
  {
   "cell_type": "markdown",
   "metadata": {},
   "source": [
    "#### Exemple 1 : Emoji visualization (Python+OJS)"
   ]
  },
  {
   "cell_type": "code",
   "execution_count": 20,
   "metadata": {},
   "outputs": [
    {
     "data": {
      "text/html": [
       "<div>\n",
       "<style scoped>\n",
       "    .dataframe tbody tr th:only-of-type {\n",
       "        vertical-align: middle;\n",
       "    }\n",
       "\n",
       "    .dataframe tbody tr th {\n",
       "        vertical-align: top;\n",
       "    }\n",
       "\n",
       "    .dataframe thead th {\n",
       "        text-align: right;\n",
       "    }\n",
       "</style>\n",
       "<table border=\"1\" class=\"dataframe\">\n",
       "  <thead>\n",
       "    <tr style=\"text-align: right;\">\n",
       "      <th></th>\n",
       "      <th>animal</th>\n",
       "      <th>country</th>\n",
       "      <th>count</th>\n",
       "    </tr>\n",
       "  </thead>\n",
       "  <tbody>\n",
       "    <tr>\n",
       "      <th>0</th>\n",
       "      <td>pigs</td>\n",
       "      <td>Great Britain</td>\n",
       "      <td>1354979</td>\n",
       "    </tr>\n",
       "    <tr>\n",
       "      <th>1</th>\n",
       "      <td>cattle</td>\n",
       "      <td>Great Britain</td>\n",
       "      <td>3962921</td>\n",
       "    </tr>\n",
       "    <tr>\n",
       "      <th>2</th>\n",
       "      <td>sheep</td>\n",
       "      <td>Great Britain</td>\n",
       "      <td>10931215</td>\n",
       "    </tr>\n",
       "    <tr>\n",
       "      <th>3</th>\n",
       "      <td>pigs</td>\n",
       "      <td>United States</td>\n",
       "      <td>6281935</td>\n",
       "    </tr>\n",
       "    <tr>\n",
       "      <th>4</th>\n",
       "      <td>cattle</td>\n",
       "      <td>United States</td>\n",
       "      <td>9917873</td>\n",
       "    </tr>\n",
       "    <tr>\n",
       "      <th>5</th>\n",
       "      <td>sheep</td>\n",
       "      <td>United States</td>\n",
       "      <td>7084151</td>\n",
       "    </tr>\n",
       "  </tbody>\n",
       "</table>\n",
       "</div>"
      ],
      "text/plain": [
       "   animal        country     count\n",
       "0    pigs  Great Britain   1354979\n",
       "1  cattle  Great Britain   3962921\n",
       "2   sheep  Great Britain  10931215\n",
       "3    pigs  United States   6281935\n",
       "4  cattle  United States   9917873\n",
       "5   sheep  United States   7084151"
      ]
     },
     "execution_count": 20,
     "metadata": {},
     "output_type": "execute_result"
    }
   ],
   "source": [
    "# This part of code is written in Python as a simple data processing.\n",
    "data = [\n",
    "  { \"animal\": \"pigs\", \"country\": \"Great Britain\", \"count\": 1354979 },\n",
    "  { \"animal\": \"cattle\", \"country\": \"Great Britain\", \"count\": 3962921 },\n",
    "  { \"animal\": \"sheep\", \"country\": \"Great Britain\", \"count\": 10931215 },\n",
    "  { \"animal\": \"pigs\", \"country\": \"United States\", \"count\": 6281935 },\n",
    "  { \"animal\": \"cattle\", \"country\": \"United States\", \"count\": 9917873 },\n",
    "  { \"animal\": \"sheep\", \"country\": \"United States\", \"count\": 7084151 }\n",
    "]\n",
    "\n",
    "df_animal = pd.DataFrame(data)\n",
    "\n",
    "# save\n",
    "df_animal.to_csv(\"animals.csv\")\n",
    "\n",
    "\n",
    "df_animal"
   ]
  },
  {
   "cell_type": "markdown",
   "metadata": {},
   "source": [
    "```{ojs}\n",
    "\n",
    "// This part of code is written in OJS !\n",
    "// Data \n",
    "data = FileAttachment(\"animals.csv\").csv({ typed: true })\n",
    "emoji =  ({ cattle: \"🐄\", sheep: \"🐑\", pigs: \"🐖\" })\n",
    "\n",
    "Plot.plot({\n",
    "  width: 610,\n",
    "  height: 380,\n",
    "  marginLeft: 60,\n",
    "  marginRight: 100,\n",
    "  marginTop: 30,\n",
    "  y: {label: null},\n",
    "  fy: {paddingInner: 0.27, label: null},\n",
    "  style: {\n",
    "    background: 'transparent' // Set the background color to transparent\n",
    "  },\n",
    "  marks: [\n",
    "    Plot.text(data, {\n",
    "      frameAnchor: \"left\",\n",
    "      fontSize: 40,\n",
    "      text: (d) => `${emoji[d.animal]} `.repeat(Math.round(d.count / 1e6)),\n",
    "      dx: 20,\n",
    "      y: \"animal\",\n",
    "      fy: \"country\"\n",
    "    }),\n",
    "  ],\n",
    "  caption: \"Live stock (millions)\"\n",
    "})\n",
    "```"
   ]
  },
  {
   "cell_type": "markdown",
   "metadata": {},
   "source": [
    "By the way, you can choose other emoji animals as you want :) Type `windows + \".\"` in order to display emoji keyboard"
   ]
  },
  {
   "cell_type": "markdown",
   "metadata": {},
   "source": [
    "#### Exemple 2 :Images Plot(Python+OJS)\n",
    "\n",
    "Reference Link: https://observablehq.com/@observablehq/plot-image-dodge?intent=fork"
   ]
  },
  {
   "cell_type": "code",
   "execution_count": 87,
   "metadata": {},
   "outputs": [
    {
     "data": {
      "text/html": [
       "<div>\n",
       "<style scoped>\n",
       "    .dataframe tbody tr th:only-of-type {\n",
       "        vertical-align: middle;\n",
       "    }\n",
       "\n",
       "    .dataframe tbody tr th {\n",
       "        vertical-align: top;\n",
       "    }\n",
       "\n",
       "    .dataframe thead th {\n",
       "        text-align: right;\n",
       "    }\n",
       "</style>\n",
       "<table border=\"1\" class=\"dataframe\">\n",
       "  <thead>\n",
       "    <tr style=\"text-align: right;\">\n",
       "      <th></th>\n",
       "      <th>Name</th>\n",
       "      <th>Very Favorable %</th>\n",
       "      <th>Somewhat Favorable %</th>\n",
       "      <th>Somewhat Unfavorable %</th>\n",
       "      <th>Very Unfavorable %</th>\n",
       "      <th>Don’t know %</th>\n",
       "      <th>Have not heard of them %</th>\n",
       "      <th>First Inauguration Date</th>\n",
       "      <th>Portrait URL</th>\n",
       "    </tr>\n",
       "  </thead>\n",
       "  <tbody>\n",
       "    <tr>\n",
       "      <th>0</th>\n",
       "      <td>George Washington</td>\n",
       "      <td>44</td>\n",
       "      <td>26</td>\n",
       "      <td>6</td>\n",
       "      <td>4</td>\n",
       "      <td>18</td>\n",
       "      <td>3</td>\n",
       "      <td>1789-04-30</td>\n",
       "      <td>https://upload.wikimedia.org/wikipedia/commons...</td>\n",
       "    </tr>\n",
       "    <tr>\n",
       "      <th>1</th>\n",
       "      <td>John Adams</td>\n",
       "      <td>16</td>\n",
       "      <td>30</td>\n",
       "      <td>7</td>\n",
       "      <td>4</td>\n",
       "      <td>37</td>\n",
       "      <td>5</td>\n",
       "      <td>1797-03-04</td>\n",
       "      <td>https://upload.wikimedia.org/wikipedia/commons...</td>\n",
       "    </tr>\n",
       "    <tr>\n",
       "      <th>2</th>\n",
       "      <td>Thomas Jefferson</td>\n",
       "      <td>28</td>\n",
       "      <td>34</td>\n",
       "      <td>10</td>\n",
       "      <td>5</td>\n",
       "      <td>23</td>\n",
       "      <td>1</td>\n",
       "      <td>1801-03-04</td>\n",
       "      <td>https://upload.wikimedia.org/wikipedia/commons...</td>\n",
       "    </tr>\n",
       "    <tr>\n",
       "      <th>3</th>\n",
       "      <td>James Madison</td>\n",
       "      <td>12</td>\n",
       "      <td>27</td>\n",
       "      <td>5</td>\n",
       "      <td>4</td>\n",
       "      <td>43</td>\n",
       "      <td>9</td>\n",
       "      <td>1809-03-04</td>\n",
       "      <td>https://upload.wikimedia.org/wikipedia/commons...</td>\n",
       "    </tr>\n",
       "    <tr>\n",
       "      <th>4</th>\n",
       "      <td>James Monroe</td>\n",
       "      <td>8</td>\n",
       "      <td>21</td>\n",
       "      <td>8</td>\n",
       "      <td>4</td>\n",
       "      <td>49</td>\n",
       "      <td>10</td>\n",
       "      <td>1817-03-04</td>\n",
       "      <td>https://upload.wikimedia.org/wikipedia/commons...</td>\n",
       "    </tr>\n",
       "  </tbody>\n",
       "</table>\n",
       "</div>"
      ],
      "text/plain": [
       "                Name  Very Favorable %  Somewhat Favorable %  \\\n",
       "0  George Washington                44                    26   \n",
       "1         John Adams                16                    30   \n",
       "2   Thomas Jefferson                28                    34   \n",
       "3      James Madison                12                    27   \n",
       "4       James Monroe                 8                    21   \n",
       "\n",
       "   Somewhat Unfavorable %  Very Unfavorable %  Don’t know %  \\\n",
       "0                       6                   4            18   \n",
       "1                       7                   4            37   \n",
       "2                      10                   5            23   \n",
       "3                       5                   4            43   \n",
       "4                       8                   4            49   \n",
       "\n",
       "   Have not heard of them % First Inauguration Date  \\\n",
       "0                         3              1789-04-30   \n",
       "1                         5              1797-03-04   \n",
       "2                         1              1801-03-04   \n",
       "3                         9              1809-03-04   \n",
       "4                        10              1817-03-04   \n",
       "\n",
       "                                        Portrait URL  \n",
       "0  https://upload.wikimedia.org/wikipedia/commons...  \n",
       "1  https://upload.wikimedia.org/wikipedia/commons...  \n",
       "2  https://upload.wikimedia.org/wikipedia/commons...  \n",
       "3  https://upload.wikimedia.org/wikipedia/commons...  \n",
       "4  https://upload.wikimedia.org/wikipedia/commons...  "
      ]
     },
     "execution_count": 87,
     "metadata": {},
     "output_type": "execute_result"
    }
   ],
   "source": [
    "# You can download this dataset from the reference link and handle its data as your want. In this part, I just read the original dataset with the library pandas in Python.\n",
    "pd.read_csv(\"./us-president-favorability@1.csv\").head(5) "
   ]
  },
  {
   "cell_type": "markdown",
   "metadata": {},
   "source": [
    "The following code is written in OJS in order to make a visualizartion:"
   ]
  },
  {
   "cell_type": "markdown",
   "metadata": {},
   "source": [
    "```{ojs}\n",
    "\n",
    "presidents = FileAttachment(\"us-president-favorability@1.csv\").csv({typed: true})\n",
    "Plot.plot({\n",
    "  inset: 20,\n",
    "  height: 280,\n",
    "  style: {\n",
    "    background: 'transparent' // Set the background color to transparent\n",
    "  },\n",
    "  marks: [\n",
    "    Plot.image(\n",
    "      presidents,\n",
    "      Plot.dodgeY({\n",
    "        x: \"First Inauguration Date\",\n",
    "        r: 20, // clip to a circle\n",
    "        preserveAspectRatio: \"xMidYMin slice\", // try not to clip heads\n",
    "        src: \"Portrait URL\",\n",
    "        title: \"Name\"\n",
    "      })\n",
    "    )\n",
    "  ]\n",
    "})\n",
    "```"
   ]
  },
  {
   "cell_type": "markdown",
   "metadata": {},
   "source": [
    "#### Exemple 3 :Animations plot (OJS)"
   ]
  },
  {
   "cell_type": "markdown",
   "metadata": {},
   "source": [
    "Reference link : https://observablehq.com/@d3/smooth-zooming?collection=@d3/d3-zoom"
   ]
  },
  {
   "cell_type": "markdown",
   "metadata": {},
   "source": [
    "```{ojs}\n",
    "theta = Math.PI * (3 - Math.sqrt(5))\n",
    "step = radius * 2\n",
    "radius = 6\n",
    "height = 500 // Observable provides a responsive *width*\n",
    "\n",
    "data_zoom = Array.from({length: 2000}, (_, i) => {\n",
    "  const r = step * Math.sqrt(i += 0.5), a = theta * i;\n",
    "  return [\n",
    "    width / 2 + r * Math.cos(a),\n",
    "    height / 2 + r * Math.sin(a)\n",
    "  ];\n",
    "})\n",
    "\n",
    "chart = {\n",
    "  let currentTransform = [width / 2, height / 2, height];\n",
    "\n",
    "  const svg = d3.create(\"svg\")\n",
    "      .attr(\"viewBox\", [0, 0, width, height])\n",
    "\n",
    "  const g = svg.append(\"g\");\n",
    "\n",
    "  g.selectAll(\"circle\")\n",
    "    .data(data_zoom)\n",
    "    .join(\"circle\")\n",
    "      .attr(\"cx\", ([x]) => x)\n",
    "      .attr(\"cy\", ([, y]) => y)\n",
    "      .attr(\"r\", radius)\n",
    "      .attr(\"fill\", (d, i) => d3.interpolateRainbow(i / 360))\n",
    "\n",
    "  function transition() {\n",
    "    const d = data_zoom[Math.floor(Math.random() * data_zoom.length)];\n",
    "    const i = d3.interpolateZoom(currentTransform, [...d, radius * 2 + 1]);\n",
    "\n",
    "    g.transition()\n",
    "        .delay(250)\n",
    "        .duration(i.duration)\n",
    "        .attrTween(\"transform\", () => t => transform(currentTransform = i(t)))\n",
    "        .on(\"end\", transition);\n",
    "  }\n",
    "\n",
    "  function transform([x, y, r]) {\n",
    "    return `\n",
    "      translate(${width / 2}, ${height / 2})\n",
    "      scale(${height / r})\n",
    "      translate(${-x}, ${-y})\n",
    "    `;\n",
    "  }\n",
    "\n",
    "  return svg.call(transition).node();\n",
    "}\n",
    "```"
   ]
  },
  {
   "cell_type": "markdown",
   "metadata": {},
   "source": [
    "### Combination of Python and OJS in Quarto\n",
    "\n",
    "After discussing propre strenghs of these two languages, it should be noted that a combination of both of them allows us to create more dynamic and interactive data-driven applications.\n",
    "\n",
    "#### Python for Backend, OJS for Frontend\n",
    "\n",
    "- *Data Processing wih Python:* We can first use Python for its powerful data analysis capabilities(Prepare, clear, handle and analyze data).\n",
    "- *Visualization with OJS:* After processing our data with Python, we can use OJS for creating interative visualizations, particularly with D3.js, an excellent library for buliding dynamic and responsive web-based visualizations.\n"
   ]
  },
  {
   "cell_type": "markdown",
   "metadata": {},
   "source": [
    "## To wrap up\n",
    "\n",
    "Quarto stands out in its ability to combine narrative, code, and data in a seamless and interactive way. For bloggers who deal with data-heavy content, Quarto offers a unique platform to present their insights in a more compelling and interactive manner. It enables the creation of dynamic, up-to-date content that can adapt to the latest data or user inputs, providing a richer experience for the reader."
   ]
  },
  {
   "cell_type": "markdown",
   "metadata": {},
   "source": [
    "## Useful ressources about Quarto\n",
    "- https://quarto.org/\n",
    "- https://observablehq.com/plot/\n",
    "- https://www.infoworld.com/article/3674789/a-beginners-guide-to-using-observable-javascript-r-and-python-with-quarto.html\n",
    "\n"
   ]
  },
  {
   "cell_type": "markdown",
   "metadata": {},
   "source": [
    "```{ojs}\n",
    "//| code-fold: true\n",
    "{\n",
    "    // The Easter egg! The last exemple of OJS : a custome visualization wrritten in OJS ! \n",
    "    function createInteractiveLogo() {\n",
    "        // SVG setup\n",
    "        const width = 700;\n",
    "        const height = 300;\n",
    "\n",
    "        const svg = d3.create(\"svg\")\n",
    "            .attr(\"width\", width)\n",
    "            .attr(\"height\", height);\n",
    "\n",
    "        // Add text for 'Qian!'\n",
    "        const text = svg.append(\"text\")\n",
    "            .text(\"Qian!\")\n",
    "            .attr(\"x\", \"50%\") // Center horizontally\n",
    "            .attr(\"y\", \"50%\") // Center vertically\n",
    "            .attr(\"text-anchor\", \"middle\")\n",
    "            .style(\"font-family\", \"Arial, sans-serif\")\n",
    "            .style(\"fill\", \"#FFC0CB\") // Pink color\n",
    "            .style(\"font-size\", \"64px\")\n",
    "            .style(\"cursor\", \"pointer\");\n",
    "\n",
    "        // Mouseover event to add interactivity\n",
    "        text.on(\"mouseover\", function() {\n",
    "            d3.select(this)\n",
    "                .transition()\n",
    "                .duration(500)\n",
    "                .style(\"font-size\", \"90px\")\n",
    "                .style(\"fill\", \"#FF69B4\")\n",
    "                .transition()\n",
    "                .duration(300)\n",
    "                .ease(d3.easeLinear)\n",
    "                .attr(\"transform\", `rotate(-10, ${width / 2}, ${height / 2})`)\n",
    "                .transition()\n",
    "                .duration(300)\n",
    "                .ease(d3.easeLinear)\n",
    "                .attr(\"transform\", `rotate(10, ${width / 2}, ${height / 2})`)\n",
    "                .transition()\n",
    "                .duration(300)\n",
    "                .ease(d3.easeLinear)\n",
    "                .attr(\"transform\", `rotate(0, ${width / 2}, ${height / 2})`)\n",
    "                .style(\"fill\", \"#FFC0CB\"); // Back to original color\n",
    "        });\n",
    "\n",
    "        // Mouseout event to reset the logo\n",
    "        text.on(\"mouseout\", function() {\n",
    "            d3.select(this)\n",
    "                .transition()\n",
    "                .duration(500)\n",
    "                .style(\"font-size\", \"64px\")\n",
    "                .style(\"fill\", \"#FFC0CB\") // Original pink color\n",
    "                .attr(\"transform\", \"\"); // Reset transformation\n",
    "        });\n",
    "\n",
    "        return svg.node();\n",
    "    }\n",
    "    \n",
    "    return createInteractiveLogo();\n",
    "}\n",
    "\n",
    " \n",
    "\n",
    "```\n"
   ]
  },
  {
   "cell_type": "markdown",
   "metadata": {},
   "source": []
  }
 ],
 "metadata": {
  "kernelspec": {
   "display_name": "base",
   "language": "python",
   "name": "python3"
  },
  "language_info": {
   "codemirror_mode": {
    "name": "ipython",
    "version": 3
   },
   "file_extension": ".py",
   "mimetype": "text/x-python",
   "name": "python",
   "nbconvert_exporter": "python",
   "pygments_lexer": "ipython3",
   "version": "3.11.4"
  }
 },
 "nbformat": 4,
 "nbformat_minor": 2
}
